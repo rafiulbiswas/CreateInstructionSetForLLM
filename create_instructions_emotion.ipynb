{
 "cells": [
  {
   "cell_type": "code",
   "execution_count": 1,
   "metadata": {},
   "outputs": [],
   "source": [
    "from PIL import Image\n",
    "import pandas as pd\n",
    "from tqdm import tqdm\n",
    "import os\n",
    "import base64\n",
    "import requests\n",
    "import sys\n",
    "import os\n",
    "from dotenv import load_dotenv\n",
    "import hashlib\n",
    "import json\n",
    "import time\n",
    "import random"
   ]
  },
  {
   "cell_type": "code",
   "execution_count": 17,
   "metadata": {},
   "outputs": [],
   "source": [
    "env_path=\"write your environment path\"\n",
    "load_dotenv(dotenv_path=env_path)\n",
    "\n",
    "# # Setting up the deployment name\n",
    "deployment_name = os.environ['AZURE_ENGINE_NAME']\n",
    "\n",
    "# # The base URL for your Azure OpenAI resource. e.g. \"https://<your resource name>.openai.azure.com\"\n",
    "openai_api_base = os.environ['AZURE_API_URL']\n",
    "\n",
    "# # The API key for your Azure OpenAI resource.\n",
    "openai_api_key = os.environ['AZURE_API_KEY']\n",
    "\n",
    "# # Currently OPENAI API have the following versions available: https://learn.microsoft.com/azure/ai-services/openai/reference\n",
    "openai_api_version = os.environ['AZURE_API_VERSION']\n",
    "# # Request URL\n",
    "\n",
    "api_url = f\"{openai_api_base}/openai/deployments/{deployment_name}/chat/completions?api-version={openai_api_version}\"\n",
    "\n",
    "# # Including the api-key in HTTP headers\n",
    "headers =  {\"api-key\": openai_api_key}\n",
    "\n",
    "    \n",
    "def generate(user_prompt, sys_prompt, temp):\n",
    "    \n",
    "    json_data = {\n",
    "      \"model\": \"gpt-4o\", \n",
    "      \"messages\": [\n",
    "        {\n",
    "          \"role\": \"system\",\n",
    "          \"content\": [\n",
    "            {\n",
    "              \"type\": \"text\",\n",
    "              \"text\": sys_prompt\n",
    "            }\n",
    "          ]\n",
    "        },\n",
    "        {\n",
    "          \"role\": \"user\",\n",
    "          \"content\": [\n",
    "            {\n",
    "              \"type\": \"text\",\n",
    "              \"text\": user_prompt\n",
    "            }\n",
    "          ]\n",
    "        }\n",
    "      ],\n",
    "      \"temperature\":temp,\n",
    "      \"top_p\": 0.95,\n",
    "      \"max_tokens\": 4000,\n",
    "      \"response_format\":{\n",
    "        \"type\": \"json_object\",\n",
    "      },\n",
    "    }    \n",
    "\n",
    "    response = requests.post(api_url, headers=headers, json=json_data)\n",
    "\n",
    "    return response"
   ]
  },
  {
   "cell_type": "code",
   "execution_count": 32,
   "metadata": {},
   "outputs": [],
   "source": [
    "system_prompt = (\n",
    "    \"You are an expert LLM developer with expertise in writing instructions. \"\n",
    "    \"Creating diverse instructions is crucial when developing instruction-following datasets. \"\n",
    "    \"Please write instructions tailored to the user's needs.\"\n",
    ")\n",
    "\n",
    "temp=0\n",
    "user_prompt = (\n",
    "    \"We are creating an instruction-following dataset for multilabel emotion classification. \"\n",
    "    \"The dataset contains tweets, and each tweet can have one or more labels. \"\n",
    "    \"The labels in our dataset include 'Joy', 'Fear', 'Anger', 'Love', 'Pessimism', 'Trust', \"\n",
    "    \"'Optimism', 'Surprise', 'Sadness', 'Disgust', and 'Anticipation'. Note that a tweet may not have any emotion at all. \"\n",
    "    \"Please write 100 diverse instructions. Provide response in JSON format in a form of list.\"\n",
    ")\n",
    "\n",
    "response=generate(user_prompt, system_prompt, temp)"
   ]
  },
  {
   "cell_type": "code",
   "execution_count": 35,
   "metadata": {},
   "outputs": [],
   "source": [
    "json_text=response.json()['choices'][0]['message']['content']\n",
    "instructions=json.loads(json_text)\n",
    "instructions=instructions['instructions']\n"
   ]
  },
  {
   "cell_type": "code",
   "execution_count": 36,
   "metadata": {},
   "outputs": [],
   "source": [
    "## write to file\n",
    "# Specify the input and output file names\n",
    "\n",
    "data_dir=\"../\"\n",
    "\n",
    "file_path=data_dir+'data/instructions_emotion.json'\n",
    "\n",
    "with open(file_path, 'w') as file:\n",
    "    json.dump(instructions, file, indent=4) #ensure_ascii=False,\n"
   ]
  },
  {
   "cell_type": "markdown",
   "metadata": {},
   "source": [
    "## check labels"
   ]
  },
  {
   "cell_type": "code",
   "execution_count": 28,
   "metadata": {},
   "outputs": [
    {
     "name": "stdout",
     "output_type": "stream",
     "text": [
      "Unique Emotion Labels:\n",
      "Joy\n",
      "Fear\n",
      "Anger\n",
      "Love\n",
      "Pessimism\n",
      "Trust\n",
      "Optimisim\n",
      "Surprise\n",
      "No emotions\n",
      "Sadness\n",
      "Disgust\n",
      "Anticipation\n"
     ]
    }
   ],
   "source": [
    "import pandas as pd\n",
    "import ast\n",
    "\n",
    "# Read the CSV file\n",
    "df = pd.read_csv('../data/train_emotion.csv')\n",
    "\n",
    "# Function to make items in a list unique\n",
    "def make_unique(items):\n",
    "    return list(set(items))\n",
    "\n",
    "# Apply the function to the Emotion_Label column\n",
    "df['Emotion_Label'] = df['Emotion_Label'].apply(lambda x: make_unique(ast.literal_eval(x)))\n",
    "\n",
    "# Collect all unique labels\n",
    "unique_labels = set()\n",
    "df['Emotion_Label'].apply(lambda x: unique_labels.update(x))\n",
    "\n",
    "# Print the unique labels\n",
    "print(\"Unique Emotion Labels:\")\n",
    "for label in unique_labels:\n",
    "    print(label)\n"
   ]
  },
  {
   "cell_type": "code",
   "execution_count": null,
   "metadata": {},
   "outputs": [],
   "source": []
  }
 ],
 "metadata": {
  "kernelspec": {
   "display_name": "Python 3 (ipykernel)",
   "language": "python",
   "name": "python3"
  },
  "language_info": {
   "codemirror_mode": {
    "name": "ipython",
    "version": 3
   },
   "file_extension": ".py",
   "mimetype": "text/x-python",
   "name": "python",
   "nbconvert_exporter": "python",
   "pygments_lexer": "ipython3",
   "version": "3.9.7"
  }
 },
 "nbformat": 4,
 "nbformat_minor": 2
}
